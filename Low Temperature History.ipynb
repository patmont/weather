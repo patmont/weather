{
 "cells": [
  {
   "cell_type": "code",
   "execution_count": null,
   "id": "3835ac3a",
   "metadata": {},
   "outputs": [],
   "source": [
    "from datetime import datetime, timedelta\n",
    "import numpy as np\n",
    "import pandas as pd\n",
    "import matplotlib.pyplot as plt\n",
    "from scipy.optimize import curve_fit\n",
    "\n",
    "%matplotlib inline"
   ]
  },
  {
   "cell_type": "code",
   "execution_count": null,
   "id": "d2e24506",
   "metadata": {},
   "outputs": [],
   "source": [
    "def remove_jumps(df, col='tmpf', delta_lim=25):\n",
    "    # Remove readings that jump more than 25F\n",
    "    diff = abs(df[col].diff()) > delta_lim\n",
    "    return df.mask(diff)\n",
    "# Curve Fit\n",
    "def objective(x, a, b, c, d, e, f):\n",
    "    return (a * x) + (b * x**2) + (c * x**3) + (d * x**4) + (e * x**5) + f\n",
    "def curvefit(x,y):\n",
    "    # curve fit\n",
    "    popt, _ = curve_fit(objective, x, y)\n",
    "    # summarize the parameter values\n",
    "    a, b, c, d, e, f = popt\n",
    "    # define a sequence of inputs between the smallest and largest known inputs\n",
    "    x_line = np.arange(min(x), max(x), 1)\n",
    "    # calculate the output for the range\n",
    "    y_line = objective(x_line, a, b, c, d, e, f)\n",
    "    return [x_line, y_line]"
   ]
  },
  {
   "cell_type": "code",
   "execution_count": null,
   "id": "c183f4bc",
   "metadata": {},
   "outputs": [],
   "source": [
    "df = pd.read_csv('SFO.csv')\n",
    "df['datetime'] = pd.to_datetime(df['valid'])\n",
    "df = df.set_index('datetime', drop=True)\n",
    "df = remove_jumps(df)\n",
    "df = df.dropna(how='any')"
   ]
  },
  {
   "cell_type": "code",
   "execution_count": null,
   "id": "28c45704",
   "metadata": {},
   "outputs": [],
   "source": [
    "df.plot()"
   ]
  },
  {
   "cell_type": "code",
   "execution_count": null,
   "id": "93070a8a",
   "metadata": {},
   "outputs": [],
   "source": [
    "# Plot min daily temperature as quartiles\n",
    "daily_stats = {}\n",
    "df_min = df.resample('D').min()\n",
    "for day, _df in df_min.groupby(df_min.index.day_of_year):\n",
    "    daily_stats[day] = {\n",
    "        'min':_df['tmpf'].min(),\n",
    "        'max':_df['tmpf'].max(),\n",
    "        'median':_df['tmpf'].median(),\n",
    "        '25th':_df['tmpf'].quantile(0.25),\n",
    "        '75th':_df['tmpf'].quantile(0.75)        \n",
    "    }\n",
    "daily_stats = pd.DataFrame(daily_stats).T\n",
    "\n",
    "# Plot fitted median line\n",
    "x,y = curvefit(daily_stats.index,daily_stats['median'])\n",
    "fig, ax1 = plt.subplots(figsize=(10, 4))\n",
    "ax1.plot(x,y,color='k',label='Median')\n",
    "\n",
    "# Plot fitted 25th & 25th quantiles\n",
    "x25,y25 = curvefit(daily_stats.index,daily_stats['25th'])\n",
    "x75,y75 = curvefit(daily_stats.index,daily_stats['75th'])\n",
    "\n",
    "ax1.fill_between(\n",
    "    x25,\n",
    "    y25,\n",
    "    y75,\n",
    "    facecolor='k',\n",
    "    alpha=0.1,\n",
    "    label='Q1-Q3'\n",
    ")\n",
    "ax1.plot(\n",
    "    daily_stats['max'].head(365),\n",
    "    color='r',\n",
    "    linewidth=0.5,\n",
    "    alpha=1,\n",
    "    label='max'\n",
    ")\n",
    "ax1.plot(\n",
    "    daily_stats['min'].head(365),\n",
    "    color='b',\n",
    "    linewidth=0.5,\n",
    "    alpha=1,\n",
    "    label='min'\n",
    ")\n",
    "\n",
    "lastyear = df_min[(df_min.index > (pd.to_datetime(\"2022-09-22\")))\n",
    "                  & (df_min.index < pd.to_datetime(\"2022-12-31\"))\n",
    "                 ]\n",
    "ax1.plot(\n",
    "    lastyear.index.day_of_year,\n",
    "    lastyear['tmpf'],\n",
    "    color='green'\n",
    ")\n",
    "\n",
    "thisyear = df_min[df_min.index > pd.to_datetime(\"2023-01-01\")]\n",
    "ax1.plot(\n",
    "    thisyear.index.day_of_year,\n",
    "    thisyear['tmpf'],\n",
    "    color='green',\n",
    "    label=\"Winter '22\"\n",
    ")\n",
    "ax1.hlines(32, xmin=0, xmax=366, color='b')\n",
    "\n",
    "plt.title('Historical Daily Low Temperature\\n for San Francisco (SFO) 1980 - 2023')\n",
    "plt.ylabel(\"Temperature [\\N{DEGREE SIGN}F]\")\n",
    "plt.xticks(np.linspace(0,365,13)[:-1],\n",
    "           ('Jan', 'Feb', 'Mar', 'Apr', 'May', 'Jun', 'Jul', 'Aug', 'Sept', 'Oct', 'Nov', 'Dec')\n",
    "          )\n",
    "plt.legend()\n",
    "ax1.margins(x=0)\n",
    "ax1.grid()"
   ]
  },
  {
   "cell_type": "code",
   "execution_count": null,
   "id": "55f76e8f",
   "metadata": {},
   "outputs": [],
   "source": []
  }
 ],
 "metadata": {
  "kernelspec": {
   "display_name": "Python 3 (ipykernel)",
   "language": "python",
   "name": "python3"
  },
  "language_info": {
   "codemirror_mode": {
    "name": "ipython",
    "version": 3
   },
   "file_extension": ".py",
   "mimetype": "text/x-python",
   "name": "python",
   "nbconvert_exporter": "python",
   "pygments_lexer": "ipython3",
   "version": "3.9.13"
  }
 },
 "nbformat": 4,
 "nbformat_minor": 5
}
